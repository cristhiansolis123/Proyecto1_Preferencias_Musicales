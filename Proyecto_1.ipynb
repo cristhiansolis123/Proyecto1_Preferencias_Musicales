{
  "cells": [
    {
      "cell_type": "markdown",
      "metadata": {
        "id": "E0vqbgi9ay0H"
      },
      "source": [
        "# Yandex.Music"
      ]
    },
    {
      "cell_type": "markdown",
      "metadata": {
        "id": "VUC88oWjTJw2"
      },
      "source": [
        "## Introducción <a id='intro'></a>\n",
        "Siempre que investiguemos, necesitamos formular hipótesis que después podamos probar. A veces aceptamos estas hipótesis; otras, las rechazamos. Para tomar las decisiones correctas, una empresa debe ser capaz de entender si está haciendo las suposiciones correctas.\n",
        "\n",
        "En este proyecto, compararás las preferencias musicales de las ciudades de Springfield y Shelbyville. Estudiarás datos reales de Yandex.Music para probar las hipótesis de abajo y comparar el comportamiento del usuario de esas dos ciudades.\n",
        "\n",
        "### Objetivo:\n",
        "Prueba tres hipótesis:\n",
        "1. La actividad de los usuarios difiere según el día de la semana y dependiendo de la ciudad.\n",
        "2. Los lunes por la mañana, los habitantes de Springfield y Shelbyville escuchan diferentes géneros. Lo mismo ocurre con los viernes por la noche.\n",
        "3. Los oyentes de Springfield y Shelbyville tienen preferencias distintas. En Springfield prefieren el pop mientras que en Shelbyville hay más aficionados al rap.\n",
        "\n",
        "### Etapas\n",
        "Los datos del comportamiento del usuario se almacenan en el archivo `/datasets/music_project_en.csv`. No hay ninguna información sobre la calidad de los datos así que necesitarás examinarlos antes de probar las hipótesis.\n",
        "\n",
        "Primero, evaluarás la calidad de los datos y verás si los problemas son significativos. Entonces, durante el preprocesamiento de datos, tomarás en cuenta los problemas más críticos."
      ]
    },
    {
      "cell_type": "markdown",
      "metadata": {
        "id": "Ml1hmfXC_Zcs"
      },
      "source": [
        "## Etapa 1. Descripción de los datos <a id='data_review'></a>\n"
      ]
    },
    {
      "cell_type": "code",
      "execution_count": null,
      "metadata": {
        "id": "AXN7PHPN_Zcs"
      },
      "outputs": [],
      "source": [
        "# importando pandas\n",
        "import pandas as pd"
      ]
    },
    {
      "cell_type": "code",
      "execution_count": null,
      "metadata": {
        "id": "fFVu7vqh_Zct",
        "outputId": "6f56d5e4-6f01-4ad5-b5cc-34e2c32d3b61"
      },
      "outputs": [
        {
          "data": {
            "text/html": [
              "<div>\n",
              "<style scoped>\n",
              "    .dataframe tbody tr th:only-of-type {\n",
              "        vertical-align: middle;\n",
              "    }\n",
              "\n",
              "    .dataframe tbody tr th {\n",
              "        vertical-align: top;\n",
              "    }\n",
              "\n",
              "    .dataframe thead th {\n",
              "        text-align: right;\n",
              "    }\n",
              "</style>\n",
              "<table border=\"1\" class=\"dataframe\">\n",
              "  <thead>\n",
              "    <tr style=\"text-align: right;\">\n",
              "      <th></th>\n",
              "      <th>userID</th>\n",
              "      <th>Track</th>\n",
              "      <th>artist</th>\n",
              "      <th>genre</th>\n",
              "      <th>City</th>\n",
              "      <th>time</th>\n",
              "      <th>Day</th>\n",
              "    </tr>\n",
              "  </thead>\n",
              "  <tbody>\n",
              "    <tr>\n",
              "      <th>count</th>\n",
              "      <td>65079</td>\n",
              "      <td>63736</td>\n",
              "      <td>57512</td>\n",
              "      <td>63881</td>\n",
              "      <td>65079</td>\n",
              "      <td>65079</td>\n",
              "      <td>65079</td>\n",
              "    </tr>\n",
              "    <tr>\n",
              "      <th>unique</th>\n",
              "      <td>41748</td>\n",
              "      <td>39666</td>\n",
              "      <td>37806</td>\n",
              "      <td>268</td>\n",
              "      <td>2</td>\n",
              "      <td>20392</td>\n",
              "      <td>3</td>\n",
              "    </tr>\n",
              "    <tr>\n",
              "      <th>top</th>\n",
              "      <td>A8AE9169</td>\n",
              "      <td>Brand</td>\n",
              "      <td>Kartvelli</td>\n",
              "      <td>pop</td>\n",
              "      <td>Springfield</td>\n",
              "      <td>08:14:07</td>\n",
              "      <td>Friday</td>\n",
              "    </tr>\n",
              "    <tr>\n",
              "      <th>freq</th>\n",
              "      <td>76</td>\n",
              "      <td>136</td>\n",
              "      <td>136</td>\n",
              "      <td>8850</td>\n",
              "      <td>45360</td>\n",
              "      <td>14</td>\n",
              "      <td>23149</td>\n",
              "    </tr>\n",
              "  </tbody>\n",
              "</table>\n",
              "</div>"
            ],
            "text/plain": [
              "          userID  Track     artist  genre       City        time     Day\n",
              "count      65079  63736      57512  63881        65079     65079   65079\n",
              "unique     41748  39666      37806    268            2     20392       3\n",
              "top     A8AE9169  Brand  Kartvelli    pop  Springfield  08:14:07  Friday\n",
              "freq          76    136        136   8850        45360        14   23149"
            ]
          },
          "execution_count": 2,
          "metadata": {},
          "output_type": "execute_result"
        }
      ],
      "source": [
        "# leyendo el archivo y almacenándolo en df\n",
        "df = pd.read_csv('/datasets/music_project_en.csv')\n",
        "df.describe()"
      ]
    },
    {
      "cell_type": "code",
      "execution_count": null,
      "metadata": {
        "id": "oWTVX3gW_Zct",
        "outputId": "6a479a86-a00f-4c59-e454-0ff679f50ed0"
      },
      "outputs": [
        {
          "name": "stdout",
          "output_type": "stream",
          "text": [
            "     userID                        Track            artist   genre  \\\n",
            "0  FFB692EC            Kamigata To Boots  The Mass Missile    rock   \n",
            "1  55204538  Delayed Because of Accident  Andreas Rönnberg    rock   \n",
            "2    20EC38            Funiculì funiculà       Mario Lanza     pop   \n",
            "3  A3DD03C9        Dragons in the Sunset        Fire + Ice    folk   \n",
            "4  E2DC1FAE                  Soul People        Space Echo   dance   \n",
            "5  842029A1                       Chains          Obladaet  rusrap   \n",
            "6  4CB90AA5                         True      Roman Messer   dance   \n",
            "7  F03E1C1F             Feeling This Way   Polina Griffith   dance   \n",
            "8  8FA1D3BE                     L’estate       Julia Dalia  ruspop   \n",
            "9  E772D5C0                    Pessimist               NaN   dance   \n",
            "\n",
            "        City        time        Day  \n",
            "0  Shelbyville  20:28:33  Wednesday  \n",
            "1  Springfield  14:07:09     Friday  \n",
            "2  Shelbyville  20:58:07  Wednesday  \n",
            "3  Shelbyville  08:37:09     Monday  \n",
            "4  Springfield  08:34:34     Monday  \n",
            "5  Shelbyville  13:09:41     Friday  \n",
            "6  Springfield  13:00:07  Wednesday  \n",
            "7  Springfield  20:47:49  Wednesday  \n",
            "8  Springfield  09:17:40     Friday  \n",
            "9  Shelbyville  21:20:49  Wednesday  \n"
          ]
        }
      ],
      "source": [
        "# obteniendo las 10 primeras filas de la tabla df\n",
        "print(df.head(10))"
      ]
    },
    {
      "cell_type": "code",
      "execution_count": null,
      "metadata": {
        "id": "DSf2kIb-_Zct",
        "outputId": "d83a4c7d-85d8-41d1-e3df-f6961fc20047"
      },
      "outputs": [
        {
          "name": "stdout",
          "output_type": "stream",
          "text": [
            "<class 'pandas.core.frame.DataFrame'>\n",
            "RangeIndex: 65079 entries, 0 to 65078\n",
            "Data columns (total 7 columns):\n",
            " #   Column    Non-Null Count  Dtype \n",
            "---  ------    --------------  ----- \n",
            " 0     userID  65079 non-null  object\n",
            " 1   Track     63736 non-null  object\n",
            " 2   artist    57512 non-null  object\n",
            " 3   genre     63881 non-null  object\n",
            " 4     City    65079 non-null  object\n",
            " 5   time      65079 non-null  object\n",
            " 6   Day       65079 non-null  object\n",
            "dtypes: object(7)\n",
            "memory usage: 3.5+ MB\n",
            "None\n"
          ]
        }
      ],
      "source": [
        "# obteniendo información general sobre los datos en df\n",
        "print(df.info())"
      ]
    },
    {
      "cell_type": "markdown",
      "metadata": {
        "id": "TaQ2Iwbr_Zct"
      },
      "source": [
        "La tabla contiene siete columnas. Todas almacenan el mismo tipo de datos: objeto.\n",
        "\n",
        "De acuerdo con la documentación:\n",
        "- `'userID'` — identificador del usuario\n",
        "- `'Track'` — título de la pista\n",
        "- `'artist'` — nombre del artista\n",
        "- `'genre'` — género\n",
        "- `'City'` — ciudad del usuario\n",
        "- `'time'` — el periodo de tiempo exacto en que se reprodujo la pista\n",
        "- `'Day'` — día de la semana\n",
        "\n",
        "Podemos ver tres problemas con el estilo en los nombres de las columnas:\n",
        "1. Algunos nombres están en mayúsculas, otros en minúsculas.\n",
        "2. Hay algunos espacios en algunos nombres.\n",
        "3. Time no dice en que se mide el tiempo.\n",
        "4. El número de valores de las columnas es diferente. Esto significa que los datos contienen valores ausentes.\n"
      ]
    },
    {
      "cell_type": "markdown",
      "metadata": {
        "id": "MCB6-dXG_Zct"
      },
      "source": [
        "### Conclusiones <a id='data_review_conclusions'></a>\n",
        "\n",
        "Cada fila de la tabla almacena datos de la pista que fue reproducida. Algunas columnas describen la pista en sí: su título, el artista y el género. El resto transmite la información del usuario: la ciudad de la que viene, el tiempo que ha reproducido la pista.\n",
        "\n",
        "Está claro que los datos son suficientes para probar la hipótesis. Sin embargo, hay valores ausentes.\n",
        "\n",
        "Para continuar, necesitamos preprocesar los datos."
      ]
    },
    {
      "cell_type": "markdown",
      "metadata": {
        "id": "SjYF6Ub9_Zct"
      },
      "source": [
        "## Etapa 2. Preprocesamiento de datos <a id='data_preprocessing'></a>\n"
      ]
    },
    {
      "cell_type": "markdown",
      "metadata": {
        "id": "dIaKXr29_Zct"
      },
      "source": [
        "### Estilo del encabezado <a id='header_style'></a>"
      ]
    },
    {
      "cell_type": "code",
      "execution_count": null,
      "metadata": {
        "id": "oKOTdF_Q_Zct",
        "outputId": "3bf74f90-3b9a-411f-e577-479d9ac6fea4"
      },
      "outputs": [
        {
          "name": "stdout",
          "output_type": "stream",
          "text": [
            "Index(['  userID', 'Track', 'artist', 'genre', '  City  ', 'time', 'Day'], dtype='object')\n"
          ]
        }
      ],
      "source": [
        "# la lista de los nombres de las columnas en la tabla df\n",
        "print(df.columns)"
      ]
    },
    {
      "cell_type": "code",
      "execution_count": null,
      "metadata": {
        "id": "ISlFqs5y_Zct"
      },
      "outputs": [],
      "source": [
        "# renombra las columnas\n",
        "df=df.rename(\n",
        "    columns={\n",
        "        '  userID': 'user_id',\n",
        "        'Track': 'track',\n",
        "        'artist': 'artist',\n",
        "        'genre': 'genre',\n",
        "        '  City  ': 'city',\n",
        "        'time': 'time',\n",
        "        'Day': 'day',\n",
        "    }\n",
        ")\n"
      ]
    },
    {
      "cell_type": "code",
      "execution_count": null,
      "metadata": {
        "id": "d4NOAmTW_Zct",
        "outputId": "fc569e1f-e5e3-4822-98be-652a3bf4ad97"
      },
      "outputs": [
        {
          "name": "stdout",
          "output_type": "stream",
          "text": [
            "Index(['user_id', 'track', 'artist', 'genre', 'city', 'time', 'day'], dtype='object')\n"
          ]
        }
      ],
      "source": [
        "# comprobando el resultado: la lista de los nombres de las columnas\n",
        "print (df.columns)"
      ]
    },
    {
      "cell_type": "markdown",
      "metadata": {
        "id": "5ISfbcfY_Zct"
      },
      "source": [
        "### Valores ausentes <a id='missing_values'></a>\n"
      ]
    },
    {
      "cell_type": "code",
      "execution_count": null,
      "metadata": {
        "id": "RskX29qr_Zct",
        "outputId": "5a876798-0053-40a4-8276-f354faa036a4"
      },
      "outputs": [
        {
          "name": "stdout",
          "output_type": "stream",
          "text": [
            "user_id       0\n",
            "track      1343\n",
            "artist     7567\n",
            "genre      1198\n",
            "city          0\n",
            "time          0\n",
            "day           0\n",
            "dtype: int64 \n",
            "\n",
            "user_id       0\n",
            "track      1343\n",
            "artist     7567\n",
            "genre      1198\n",
            "city          0\n",
            "time          0\n",
            "day           0\n",
            "dtype: int64\n"
          ]
        }
      ],
      "source": [
        "# calculando valores ausentes\n",
        "print(df.isna().sum(),'\\n')\n",
        "print(df.isnull().sum())\n"
      ]
    },
    {
      "cell_type": "markdown",
      "metadata": {
        "id": "fSv2laPA_Zct"
      },
      "source": [
        "Se reemplaza los valores ausentes en `'track'`, `'artist'`, y `'genre'` con la string `'unknown'`. Para ello, se crea la lista `columns_to_replace`, se recorre con un bucle `for` y se reemplaza los valores ausentes en cada una de las columnas:"
      ]
    },
    {
      "cell_type": "code",
      "execution_count": null,
      "metadata": {
        "id": "KplB5qWs_Zct"
      },
      "outputs": [],
      "source": [
        "# recorriendo los nombres de las columnas y reemplazando los valores ausentes con 'unknown'\n",
        "\n",
        "def columns_to_replace(absent_values, correct_value):\n",
        "   for absent_value in absent_values:\n",
        "        df['artist']= df['artist'].replace(absent_values, correct_value)\n",
        "        df['track']= df['track'].replace(absent_values, correct_value)\n",
        "        df['genre']= df['genre'].replace(absent_values, correct_value)\n",
        "\n",
        "value= [None]\n",
        "word= 'unknown'\n",
        "columns_to_replace(value, word)"
      ]
    },
    {
      "cell_type": "code",
      "execution_count": null,
      "metadata": {
        "id": "Tq4nYRX4_Zct",
        "outputId": "52100c9d-132c-4ef7-f5ce-2973b69a05eb"
      },
      "outputs": [
        {
          "name": "stdout",
          "output_type": "stream",
          "text": [
            "user_id    0\n",
            "track      0\n",
            "artist     0\n",
            "genre      0\n",
            "city       0\n",
            "time       0\n",
            "day        0\n",
            "dtype: int64\n"
          ]
        }
      ],
      "source": [
        "# contando valores ausentes\n",
        "print(df.isna().sum())"
      ]
    },
    {
      "cell_type": "markdown",
      "metadata": {
        "id": "BWKRtBJ3_Zct"
      },
      "source": [
        "### Duplicados <a id='duplicates'></a>\n"
      ]
    },
    {
      "cell_type": "code",
      "execution_count": null,
      "metadata": {
        "id": "36eES_S0_Zct",
        "outputId": "4104adbd-8cd5-49d1-e3d5-a1be4dfda882"
      },
      "outputs": [
        {
          "name": "stdout",
          "output_type": "stream",
          "text": [
            "        user_id                track                          artist  \\\n",
            "575    E7F07B46                Crazy                  The Manhattans   \n",
            "832    7671A47A           Johnny Go!                          NikitA   \n",
            "1216   69467B01        Change It All                  Harrison Storm   \n",
            "1754   13B1A573    Te Adoramos Jesús                         Athenas   \n",
            "1964   B24668A0  Mad over You Mashup                      Nana Fofie   \n",
            "...         ...                  ...                             ...   \n",
            "65042  83E9C8C4        Buddhist Beat  Asian Zen Spa Music Meditation   \n",
            "65056  2E25BCD2          Psychobitch                          Easter   \n",
            "65059  F231C47E  All Summer in a Day                     VHS Or BETA   \n",
            "65067  F1B93F29          Poison Kiss                     Centerstone   \n",
            "65069  BE1AAD74            Waterwalk                Eduardo Gonzales   \n",
            "\n",
            "            genre         city      time        day  \n",
            "575           rnb  Springfield  13:39:46     Monday  \n",
            "832        ruspop  Springfield  21:59:33  Wednesday  \n",
            "1216       singer  Springfield  20:53:06  Wednesday  \n",
            "1754    spiritual  Springfield  13:19:37     Monday  \n",
            "1964       singer  Springfield  20:36:51     Monday  \n",
            "...           ...          ...       ...        ...  \n",
            "65042     ambient  Springfield  13:25:29     Monday  \n",
            "65056         pop  Springfield  14:53:07     Friday  \n",
            "65059  electronic  Springfield  20:31:23     Friday  \n",
            "65067        rock  Shelbyville  22:00:29     Monday  \n",
            "65069  electronic  Springfield  20:38:59     Monday  \n",
            "\n",
            "[3826 rows x 7 columns]\n"
          ]
        }
      ],
      "source": [
        "# contando duplicado obvios\n",
        "\n",
        "duplicated_df = df[df.duplicated()]\n",
        "print(duplicated_df)"
      ]
    },
    {
      "cell_type": "code",
      "execution_count": null,
      "metadata": {
        "id": "exFHq6tt_Zct"
      },
      "outputs": [],
      "source": [
        "# eliminando duplicados obvios\n",
        "\n",
        "df = df.drop_duplicates()"
      ]
    },
    {
      "cell_type": "code",
      "execution_count": null,
      "metadata": {
        "id": "-8PuNWQ0_Zct",
        "outputId": "bce2ec30-1ef0-4b88-b418-f11cd8ac3a03"
      },
      "outputs": [
        {
          "name": "stdout",
          "output_type": "stream",
          "text": [
            "0\n"
          ]
        }
      ],
      "source": [
        "# comprobando duplicados\n",
        "\n",
        "print(df.duplicated().sum())"
      ]
    },
    {
      "cell_type": "code",
      "execution_count": null,
      "metadata": {
        "id": "JIUcqzZN_Zct",
        "outputId": "7b9b00a5-050d-4dbc-984d-190786a14483"
      },
      "outputs": [
        {
          "name": "stdout",
          "output_type": "stream",
          "text": [
            "['acid' 'acoustic' 'action' 'adult' 'africa' 'afrikaans' 'alternative'\n",
            " 'ambient' 'americana' 'animated' 'anime' 'arabesk' 'arabic' 'arena'\n",
            " 'argentinetango' 'art' 'audiobook' 'avantgarde' 'axé' 'baile' 'balkan'\n",
            " 'beats' 'bigroom' 'black' 'bluegrass' 'blues' 'bollywood' 'bossa'\n",
            " 'brazilian' 'breakbeat' 'breaks' 'broadway' 'cantautori' 'cantopop'\n",
            " 'canzone' 'caribbean' 'caucasian' 'celtic' 'chamber' 'children' 'chill'\n",
            " 'chinese' 'choral' 'christian' 'christmas' 'classical' 'classicmetal'\n",
            " 'club' 'colombian' 'comedy' 'conjazz' 'contemporary' 'country' 'cuban'\n",
            " 'dance' 'dancehall' 'dancepop' 'dark' 'death' 'deep' 'deutschrock'\n",
            " 'deutschspr' 'dirty' 'disco' 'dnb' 'documentary' 'downbeat' 'downtempo'\n",
            " 'drum' 'dub' 'dubstep' 'eastern' 'easy' 'electronic' 'electropop' 'emo'\n",
            " 'entehno' 'epicmetal' 'estrada' 'ethnic' 'eurofolk' 'european'\n",
            " 'experimental' 'extrememetal' 'fado' 'film' 'fitness' 'flamenco' 'folk'\n",
            " 'folklore' 'folkmetal' 'folkrock' 'folktronica' 'forró' 'frankreich'\n",
            " 'französisch' 'french' 'funk' 'future' 'gangsta' 'garage' 'german'\n",
            " 'ghazal' 'gitarre' 'glitch' 'gospel' 'gothic' 'grime' 'grunge' 'gypsy'\n",
            " 'handsup' \"hard'n'heavy\" 'hardcore' 'hardstyle' 'hardtechno' 'hip'\n",
            " 'hip-hop' 'hiphop' 'historisch' 'holiday' 'hop' 'horror' 'house' 'idm'\n",
            " 'independent' 'indian' 'indie' 'indipop' 'industrial' 'inspirational'\n",
            " 'instrumental' 'international' 'irish' 'jam' 'japanese' 'jazz' 'jewish'\n",
            " 'jpop' 'jungle' 'k-pop' 'karadeniz' 'karaoke' 'kayokyoku' 'korean'\n",
            " 'laiko' 'latin' 'latino' 'leftfield' 'local' 'lounge' 'loungeelectronic'\n",
            " 'lovers' 'malaysian' 'mandopop' 'marschmusik' 'meditative'\n",
            " 'mediterranean' 'melodic' 'metal' 'metalcore' 'mexican' 'middle'\n",
            " 'minimal' 'miscellaneous' 'modern' 'mood' 'mpb' 'muslim' 'native'\n",
            " 'neoklassik' 'neue' 'new' 'newage' 'newwave' 'nu' 'nujazz' 'numetal'\n",
            " 'oceania' 'old' 'opera' 'orchestral' 'other' 'piano' 'pop'\n",
            " 'popelectronic' 'popeurodance' 'post' 'posthardcore' 'postrock' 'power'\n",
            " 'progmetal' 'progressive' 'psychedelic' 'punjabi' 'punk' 'quebecois'\n",
            " 'ragga' 'ram' 'rancheras' 'rap' 'rave' 'reggae' 'reggaeton' 'regional'\n",
            " 'relax' 'religious' 'retro' 'rhythm' 'rnb' 'rnr' 'rock' 'rockabilly'\n",
            " 'romance' 'roots' 'ruspop' 'rusrap' 'rusrock' 'salsa' 'samba' 'schlager'\n",
            " 'self' 'sertanejo' 'shoegazing' 'showtunes' 'singer' 'ska' 'slow'\n",
            " 'smooth' 'soul' 'soulful' 'sound' 'soundtrack' 'southern' 'specialty'\n",
            " 'speech' 'spiritual' 'sport' 'stonerrock' 'surf' 'swing' 'synthpop'\n",
            " 'sängerportrait' 'tango' 'tanzorchester' 'taraftar' 'tech' 'techno'\n",
            " 'thrash' 'top' 'traditional' 'tradjazz' 'trance' 'tribal' 'trip'\n",
            " 'triphop' 'tropical' 'türk' 'türkçe' 'unknown' 'urban' 'uzbek' 'variété'\n",
            " 'vi' 'videogame' 'vocal' 'western' 'world' 'worldbeat' 'ïîï']\n"
          ]
        }
      ],
      "source": [
        "# inspeccionando los nombres de géneros únicos\n",
        "\n",
        "list_genre = df['genre']\n",
        "sorted_list_genre = list_genre.sort_values()\n",
        "\n",
        "print(sorted_list_genre.unique())\n"
      ]
    },
    {
      "cell_type": "code",
      "execution_count": null,
      "metadata": {
        "id": "ErNDkmns_Zct"
      },
      "outputs": [],
      "source": [
        "# función para reemplazar duplicados implícitos\n",
        "\n",
        "def replace_wrong_genres(wrong_genres, correct_genre):\n",
        "   for wrong_genre in wrong_genres:\n",
        "        df['genre']= df['genre'].replace(wrong_genres, correct_genre)"
      ]
    },
    {
      "cell_type": "code",
      "execution_count": null,
      "metadata": {
        "id": "YN5i2hpmSo09"
      },
      "outputs": [],
      "source": [
        "# eliminando duplicados implícitos\n",
        "\n",
        "word= ['hip', 'hop', 'hip-hop']\n",
        "correct= 'hiphop'\n",
        "replace_wrong_genres(word, correct)"
      ]
    },
    {
      "cell_type": "code",
      "execution_count": null,
      "metadata": {
        "id": "wvixALnFG15m",
        "outputId": "df457112-eec5-423f-ebb9-de90d554a5fc"
      },
      "outputs": [
        {
          "name": "stdout",
          "output_type": "stream",
          "text": [
            "['acid' 'acoustic' 'action' 'adult' 'africa' 'afrikaans' 'alternative'\n",
            " 'ambient' 'americana' 'animated' 'anime' 'arabesk' 'arabic' 'arena'\n",
            " 'argentinetango' 'art' 'audiobook' 'avantgarde' 'axé' 'baile' 'balkan'\n",
            " 'beats' 'bigroom' 'black' 'bluegrass' 'blues' 'bollywood' 'bossa'\n",
            " 'brazilian' 'breakbeat' 'breaks' 'broadway' 'cantautori' 'cantopop'\n",
            " 'canzone' 'caribbean' 'caucasian' 'celtic' 'chamber' 'children' 'chill'\n",
            " 'chinese' 'choral' 'christian' 'christmas' 'classical' 'classicmetal'\n",
            " 'club' 'colombian' 'comedy' 'conjazz' 'contemporary' 'country' 'cuban'\n",
            " 'dance' 'dancehall' 'dancepop' 'dark' 'death' 'deep' 'deutschrock'\n",
            " 'deutschspr' 'dirty' 'disco' 'dnb' 'documentary' 'downbeat' 'downtempo'\n",
            " 'drum' 'dub' 'dubstep' 'eastern' 'easy' 'electronic' 'electropop' 'emo'\n",
            " 'entehno' 'epicmetal' 'estrada' 'ethnic' 'eurofolk' 'european'\n",
            " 'experimental' 'extrememetal' 'fado' 'film' 'fitness' 'flamenco' 'folk'\n",
            " 'folklore' 'folkmetal' 'folkrock' 'folktronica' 'forró' 'frankreich'\n",
            " 'französisch' 'french' 'funk' 'future' 'gangsta' 'garage' 'german'\n",
            " 'ghazal' 'gitarre' 'glitch' 'gospel' 'gothic' 'grime' 'grunge' 'gypsy'\n",
            " 'handsup' \"hard'n'heavy\" 'hardcore' 'hardstyle' 'hardtechno' 'hiphop'\n",
            " 'historisch' 'holiday' 'horror' 'house' 'idm' 'independent' 'indian'\n",
            " 'indie' 'indipop' 'industrial' 'inspirational' 'instrumental'\n",
            " 'international' 'irish' 'jam' 'japanese' 'jazz' 'jewish' 'jpop' 'jungle'\n",
            " 'k-pop' 'karadeniz' 'karaoke' 'kayokyoku' 'korean' 'laiko' 'latin'\n",
            " 'latino' 'leftfield' 'local' 'lounge' 'loungeelectronic' 'lovers'\n",
            " 'malaysian' 'mandopop' 'marschmusik' 'meditative' 'mediterranean'\n",
            " 'melodic' 'metal' 'metalcore' 'mexican' 'middle' 'minimal'\n",
            " 'miscellaneous' 'modern' 'mood' 'mpb' 'muslim' 'native' 'neoklassik'\n",
            " 'neue' 'new' 'newage' 'newwave' 'nu' 'nujazz' 'numetal' 'oceania' 'old'\n",
            " 'opera' 'orchestral' 'other' 'piano' 'pop' 'popelectronic' 'popeurodance'\n",
            " 'post' 'posthardcore' 'postrock' 'power' 'progmetal' 'progressive'\n",
            " 'psychedelic' 'punjabi' 'punk' 'quebecois' 'ragga' 'ram' 'rancheras'\n",
            " 'rap' 'rave' 'reggae' 'reggaeton' 'regional' 'relax' 'religious' 'retro'\n",
            " 'rhythm' 'rnb' 'rnr' 'rock' 'rockabilly' 'romance' 'roots' 'ruspop'\n",
            " 'rusrap' 'rusrock' 'salsa' 'samba' 'schlager' 'self' 'sertanejo'\n",
            " 'shoegazing' 'showtunes' 'singer' 'ska' 'slow' 'smooth' 'soul' 'soulful'\n",
            " 'sound' 'soundtrack' 'southern' 'specialty' 'speech' 'spiritual' 'sport'\n",
            " 'stonerrock' 'surf' 'swing' 'synthpop' 'sängerportrait' 'tango'\n",
            " 'tanzorchester' 'taraftar' 'tech' 'techno' 'thrash' 'top' 'traditional'\n",
            " 'tradjazz' 'trance' 'tribal' 'trip' 'triphop' 'tropical' 'türk' 'türkçe'\n",
            " 'unknown' 'urban' 'uzbek' 'variété' 'vi' 'videogame' 'vocal' 'western'\n",
            " 'world' 'worldbeat' 'ïîï']\n"
          ]
        }
      ],
      "source": [
        "# revisando en busca de duplicados implícitos\n",
        "\n",
        "print(df['genre'].sort_values().unique())"
      ]
    },
    {
      "cell_type": "markdown",
      "metadata": {
        "id": "jz6a9-7HQUDd"
      },
      "source": [
        "### Conclusiones <a id='data_preprocessing_conclusions'></a>\n",
        "Detectamos tres problemas con los datos:\n",
        "\n",
        "- Estilos de encabezados incorrectos\n",
        "- Valores ausentes\n",
        "- Duplicados obvios e implícitos\n",
        "\n",
        "Los encabezados han sido eliminados para conseguir que el procesamiento de la tabla sea más sencillo.\n",
        "\n",
        "Todos los valores ausentes han sido reemplazados por `'unknown'`. Pero todavía tenemos que ver si los valores ausentes en `'genre'` afectan a nuestros cálculos.\n",
        "\n",
        "La ausencia de duplicados hará que los resultados sean mas precisos y fáciles de entender.\n",
        "\n",
        "Ahora ya podemos continuar probando las hipótesis."
      ]
    },
    {
      "cell_type": "markdown",
      "metadata": {
        "id": "WttZHXH0SqKk"
      },
      "source": [
        "## Etapa 3. Prueba de hipótesis <a id='hypotheses'></a>"
      ]
    },
    {
      "cell_type": "markdown",
      "metadata": {
        "id": "Im936VVi_Zcu"
      },
      "source": [
        "### Hipótesis 1: comparar el comportamiento del usuario en las dos ciudades <a id='activity'></a>"
      ]
    },
    {
      "cell_type": "markdown",
      "metadata": {
        "id": "nwt_MuaL_Zcu"
      },
      "source": [
        "De acuerdo con la primera hipótesis, los usuarios de Springfield y Shelbyville escuchan música de forma distinta. Comprueba esto utilizando los datos de tres días de la semana: lunes, miércoles y viernes.\n",
        "\n",
        "* Se divide a los usuarios en grupos por ciudad.\n",
        "* Se compara cuántas pistas reprodujo cada grupo el lunes, el miércoles y el viernes.\n"
      ]
    },
    {
      "cell_type": "code",
      "execution_count": null,
      "metadata": {
        "id": "0_Qs96oh_Zcu",
        "outputId": "b8cb913d-b994-4dec-a280-943c2fbef470"
      },
      "outputs": [
        {
          "name": "stdout",
          "output_type": "stream",
          "text": [
            "city\n",
            "Shelbyville    18512\n",
            "Springfield    42741\n",
            "Name: track, dtype: int64\n"
          ]
        }
      ],
      "source": [
        "# contando las pistas reproducidas en cada ciudad\n",
        "\n",
        "count_track = df.groupby('city')['track'].count()\n",
        "print(count_track)"
      ]
    },
    {
      "cell_type": "markdown",
      "metadata": {
        "id": "dzli3w8o_Zcu"
      },
      "source": [
        "Springfield ha reproducido más pistas que Shelbyville. Pero eso no implica que los ciudadanos de Springfield escuchen música más a menudo. Esta ciudad es simplemente más grande y hay más usuarios."
      ]
    },
    {
      "cell_type": "code",
      "execution_count": null,
      "metadata": {
        "id": "uZMKjiJz_Zcu",
        "outputId": "1db5634a-445f-4bed-9637-237c1fa4b3b4"
      },
      "outputs": [
        {
          "name": "stdout",
          "output_type": "stream",
          "text": [
            "day\n",
            "Friday       21840\n",
            "Monday       21354\n",
            "Wednesday    18059\n",
            "Name: track, dtype: int64\n"
          ]
        }
      ],
      "source": [
        "# calculando las pistas reproducidas en cada uno de los tres días\n",
        "\n",
        "track_day = df.groupby('day')['track'].count()\n",
        "print(track_day)"
      ]
    },
    {
      "cell_type": "markdown",
      "metadata": {
        "id": "cC2tNrlL_Zcu"
      },
      "source": [
        "El miércoles fue el día más silencioso de todos. Pero si consideramos las dos ciudades por separado podríamos llegar a una conclusión diferente."
      ]
    },
    {
      "cell_type": "code",
      "execution_count": null,
      "metadata": {
        "id": "Nz3GdQB1_Zcu"
      },
      "outputs": [],
      "source": [
        "# <creando la función number_tracks()>\n",
        "# declararemos la función con dos parámetros: day=, city=.\n",
        "\n",
        "def number_tracks(day, city):\n",
        "    #track_list = df[(df['day'] == day) & (df['city']==city)]\n",
        "    track_list = df[df['day'] == day]\n",
        "    track_list = track_list[track_list['city']==city]\n",
        "\n",
        "    track_list_count = track_list['user_id'].count()\n",
        "\n",
        "    return track_list_count\n"
      ]
    },
    {
      "cell_type": "code",
      "execution_count": null,
      "metadata": {
        "id": "rJcRATNQ_Zcu",
        "outputId": "cb77611b-0e65-469a-e213-af72ce29035f"
      },
      "outputs": [
        {
          "name": "stdout",
          "output_type": "stream",
          "text": [
            "15740\n"
          ]
        }
      ],
      "source": [
        "# el número de canciones reproducidas en Springfield el lunes\n",
        "\n",
        "tracks_Spr_Mon = number_tracks('Monday', 'Springfield')\n",
        "print (tracks_Spr_Mon)"
      ]
    },
    {
      "cell_type": "code",
      "execution_count": null,
      "metadata": {
        "id": "hq_ncZ5T_Zcu",
        "outputId": "aa699ada-f458-4128-dd1c-28bbfc90f6f3"
      },
      "outputs": [
        {
          "name": "stdout",
          "output_type": "stream",
          "text": [
            "5614\n"
          ]
        }
      ],
      "source": [
        "# el número de canciones reproducidas en Shelbyville el lunes\n",
        "\n",
        "tracks_Shel_Mon = number_tracks('Monday', 'Shelbyville')\n",
        "print (tracks_Shel_Mon)"
      ]
    },
    {
      "cell_type": "code",
      "execution_count": null,
      "metadata": {
        "id": "_NTy2VPU_Zcu",
        "outputId": "281afb28-6691-460c-80e8-5d1b0367a140"
      },
      "outputs": [
        {
          "name": "stdout",
          "output_type": "stream",
          "text": [
            "11056\n"
          ]
        }
      ],
      "source": [
        "# el número de canciones reproducidas en Springfield 110iércoles\n",
        "\n",
        "tracks_Spr_Wed = number_tracks('Wednesday', 'Springfield')\n",
        "print (tracks_Spr_Wed)"
      ]
    },
    {
      "cell_type": "code",
      "execution_count": null,
      "metadata": {
        "id": "j2y3TAwo_Zcu",
        "outputId": "4fbb53a8-f65f-439c-8231-3ed305ee2476"
      },
      "outputs": [
        {
          "name": "stdout",
          "output_type": "stream",
          "text": [
            "7003\n"
          ]
        }
      ],
      "source": [
        "# el número de canciones reproducidas en Shelbyville el miércoles\n",
        "\n",
        "tracks_Shel_Wed = number_tracks('Wednesday', 'Shelbyville')\n",
        "print (tracks_Shel_Wed)"
      ]
    },
    {
      "cell_type": "code",
      "execution_count": null,
      "metadata": {
        "id": "vYDw5u_K_Zcu",
        "outputId": "ff2815af-b361-41f1-a98e-b67fdf144cc7"
      },
      "outputs": [
        {
          "name": "stdout",
          "output_type": "stream",
          "text": [
            "15945\n"
          ]
        }
      ],
      "source": [
        "# el número de canciones reproducidas en Springfield el viernes\n",
        "\n",
        "tracks_Spr_Fri = number_tracks('Friday', 'Springfield')\n",
        "print (tracks_Spr_Fri)"
      ]
    },
    {
      "cell_type": "code",
      "execution_count": null,
      "metadata": {
        "id": "8_yzFtW3_Zcu",
        "outputId": "5a5715c8-7afe-445c-9adf-15286cc563dd"
      },
      "outputs": [
        {
          "name": "stdout",
          "output_type": "stream",
          "text": [
            "5895\n"
          ]
        }
      ],
      "source": [
        "# el número de canciones reproducidas en Shelbyville el viernes\n",
        "\n",
        "tracks_Shel_Fri = number_tracks('Friday', 'Shelbyville')\n",
        "print (tracks_Shel_Fri)"
      ]
    },
    {
      "cell_type": "code",
      "execution_count": null,
      "metadata": {
        "id": "-7QmT_Yyzyp3"
      },
      "outputs": [],
      "source": [
        "#import pandas as pd\n",
        "\n",
        "tracks_city = [\n",
        "    ['Springfield', 15740, 11056, 15945],\n",
        "    ['Shelbyville', 5614, 7003, 5895]\n",
        "]\n",
        "\n",
        "data_col = ['city', 'monday', 'wednesday', 'friday']\n",
        "\n",
        "tracks_table = pd.DataFrame(data = tracks_city, columns = data_col)"
      ]
    },
    {
      "cell_type": "code",
      "execution_count": null,
      "metadata": {
        "id": "APAcLpOr_Zcu",
        "outputId": "c1293479-51ec-4852-9a90-7643dcb815bc"
      },
      "outputs": [
        {
          "name": "stdout",
          "output_type": "stream",
          "text": [
            "          city  monday  wednesday  friday\n",
            "0  Springfield   15740      11056   15945\n",
            "1  Shelbyville    5614       7003    5895\n"
          ]
        }
      ],
      "source": [
        "# tabla con los resultados\n",
        "\n",
        "print(tracks_table)"
      ]
    },
    {
      "cell_type": "markdown",
      "metadata": {
        "id": "-EgPIHYu_Zcu"
      },
      "source": [
        "**Conclusiones**\n",
        "\n",
        "Los datos revelan las diferencias en el comportamiento de los usuarios:\n",
        "\n",
        "- En Springfield, el número de canciones reproducidas alcanzan el punto máximo los lunes y viernes mientras que los miércoles hay un descenso de la actividad.\n",
        "- En Shelbyville, al contario, los usuarios escuchan más música los miércoles. La actividad de los usuarios los lunes y viernes es menor.\n",
        "\n",
        "Así que la primera hipótesis parece ser correcta."
      ]
    },
    {
      "cell_type": "markdown",
      "metadata": {
        "id": "atZAxtq4_Zcu"
      },
      "source": [
        "### Hipótesis 2: música al principio y al final de la semana <a id='week'></a>"
      ]
    },
    {
      "cell_type": "markdown",
      "metadata": {
        "id": "eXrQqXFH_Zcu"
      },
      "source": [
        "De acuerdo con la segunda hipótesis, los lunes por la mañana y los viernes por la noche los ciudadanos de Springfield escuchan géneros que difieren de aquellos que los usuarios de Shelbyville disfrutan."
      ]
    },
    {
      "cell_type": "markdown",
      "metadata": {
        "id": "S8UcW6Hw_Zcu"
      },
      "source": [
        "Obtén tablas (asegúrate de que el nombre de tu tabla combinada encaja con el DataFrame dado en los dos bloques de código de abajo):\n",
        "* Para Springfield — `spr_general`\n",
        "* Para Shelbyville — `shel_general`"
      ]
    },
    {
      "cell_type": "code",
      "execution_count": null,
      "metadata": {
        "id": "qeaFfM_P_Zcu"
      },
      "outputs": [],
      "source": [
        "# obteniendo la tabla spr_general de las filas de df,\n",
        "# donde los valores en la columna 'city' es 'Springfield'\n",
        "\n",
        "spr_general = df[df['city'] == \"Springfield\"]\n",
        "print(spr_general)\n"
      ]
    },
    {
      "cell_type": "code",
      "source": [
        "        user_id                          track                   artist  \\\n",
        "1      55204538    Delayed Because of Accident         Andreas Rönnberg\n",
        "4      E2DC1FAE                    Soul People               Space Echo\n",
        "6      4CB90AA5                           True             Roman Messer\n",
        "7      F03E1C1F               Feeling This Way          Polina Griffith\n",
        "8      8FA1D3BE                       L’estate              Julia Dalia\n",
        "...         ...                            ...                      ...\n",
        "65073  83A474E7  I Worship Only What You Bleed  The Black Dahlia Murder\n",
        "65074  729CBB09                        My Name                   McLean\n",
        "65076  C5E3A0D5                      Jalopiina                  unknown\n",
        "65077  321D0506                  Freight Train            Chas McDevitt\n",
        "65078  3A64EF84      Tell Me Sweet Little Lies             Monica Lopez\n",
        "\n",
        "              genre         city      time        day\n",
        "1              rock  Springfield  14:07:09     Friday\n",
        "4             dance  Springfield  08:34:34     Monday\n",
        "6             dance  Springfield  13:00:07  Wednesday\n",
        "7             dance  Springfield  20:47:49  Wednesday\n",
        "8            ruspop  Springfield  09:17:40     Friday\n",
        "...             ...          ...       ...        ...\n",
        "65073  extrememetal  Springfield  21:07:12     Monday\n",
        "65074           rnb  Springfield  13:32:28  Wednesday\n",
        "65076    industrial  Springfield  20:09:26     Friday\n",
        "65077          rock  Springfield  21:43:59     Friday\n",
        "65078       country  Springfield  21:59:46     Friday\n",
        "\n",
        "[42741 rows x 7 columns]"
      ],
      "metadata": {
        "id": "dgoGBzgL3BUi"
      },
      "execution_count": null,
      "outputs": []
    },
    {
      "cell_type": "code",
      "execution_count": null,
      "metadata": {
        "id": "ORaVRKto_Zcu"
      },
      "outputs": [],
      "source": [
        "# obteniendo shel_general de las filas df,\n",
        "# donde el valor de la columna 'city' es 'Shelbyville'\n",
        "\n",
        "shel_general = df[df['city'] == \"Shelbyville\"]\n",
        "print(shel_general)"
      ]
    },
    {
      "cell_type": "code",
      "source": [
        "  user_id                              track              artist  \\\n",
        "0      FFB692EC                  Kamigata To Boots    The Mass Missile\n",
        "2        20EC38                  Funiculì funiculà         Mario Lanza\n",
        "3      A3DD03C9              Dragons in the Sunset          Fire + Ice\n",
        "5      842029A1                             Chains            Obladaet\n",
        "9      E772D5C0                          Pessimist             unknown\n",
        "...         ...                                ...                 ...\n",
        "65063  D94F810B        Theme from the Walking Dead  Proyecto Halloween\n",
        "65064  BC8EC5CF       Red Lips: Gta (Rover Rework)               Rover\n",
        "65065  29E04611                       Bre Petrunko       Perunika Trio\n",
        "65066  1B91C621             (Hello) Cloud Mountain     sleepmakeswaves\n",
        "65075  D08D4A55  Maybe One Day (feat. Black Spade)         Blu & Exile\n",
        "\n",
        "            genre         city      time        day\n",
        "0            rock  Shelbyville  20:28:33  Wednesday\n",
        "2             pop  Shelbyville  20:58:07  Wednesday\n",
        "3            folk  Shelbyville  08:37:09     Monday\n",
        "5          rusrap  Shelbyville  13:09:41     Friday\n",
        "9           dance  Shelbyville  21:20:49  Wednesday\n",
        "...           ...          ...       ...        ...\n",
        "65063        film  Shelbyville  21:14:40     Monday\n",
        "65064  electronic  Shelbyville  21:06:50     Monday\n",
        "65065       world  Shelbyville  13:56:00     Monday\n",
        "65066    postrock  Shelbyville  09:22:13     Monday\n",
        "65075      hiphop  Shelbyville  10:00:00     Monday\n",
        "\n",
        "[18512 rows x 7 columns]"
      ],
      "metadata": {
        "id": "Kn6fErug3Zql"
      },
      "execution_count": null,
      "outputs": []
    },
    {
      "cell_type": "code",
      "execution_count": null,
      "metadata": {
        "id": "laJT9BYl_Zcu"
      },
      "outputs": [],
      "source": [
        "# declarando la función genre_weekday() con los parámetros day=, time1= y time2=. Debería\n",
        "# devolver información sobre los géneros más populares de un determinado día a una determinada hora:\n",
        "\n",
        "def genre_weekday(df, day, time1, time2):\n",
        "\n",
        "    # filtrado consecutivo\n",
        "    # genre_df solo almacenará aquellas filas df en las que el día sea igual a day=\n",
        "    genre_df = df[df['day'] == day]    # escribe tu código aquí\n",
        "\n",
        "    # genre_df solo almacenará aquellas filas df en las que el tiempo sea menos que time2=\n",
        "    genre_df = genre_df[genre_df['time'] < time2]    # escribe tu código aquí\n",
        "\n",
        "    # genre_df solo almacenará aquellas filas df en las que el tiempo sea mayor que time1=\n",
        "    genre_df = genre_df[genre_df['time'] > time1]    # escribe tu código aquí\n",
        "\n",
        "    # agrupa el DataFrame filtrado por la columna con los nombres de los géneros, toma la columna de género, y encuentra el número de filas por cada género con el método count()\n",
        "    #genre_df_grouped = genre_df['genre'].count()  # escribe tu código aquí\n",
        "    genre_df_grouped = genre_df.groupby('genre')['genre'].count()\n",
        "\n",
        "    # ordenaremos el resultado en orden descendente (por lo que los géneros más populares aparecerán primero en el objeto Series)\n",
        "    genre_df_sorted = genre_df_grouped.sort_values(ascending = False)  # escribe tu código aquí\n",
        "\n",
        "    # devolveremos el objeto Series que almacena los 15 géneros más populares en un día determinado en un periodo de tiempo determinado\n",
        "    return genre_df_sorted[:15]\n"
      ]
    },
    {
      "cell_type": "code",
      "execution_count": null,
      "metadata": {
        "id": "yz7itPUQ_Zcu"
      },
      "outputs": [],
      "source": [
        "# llamando a la función para el lunes por la mañana en Springfield (utilizando spr_general en vez de la tabla df)\n",
        "\n",
        "spr_mon_morn = genre_weekday(spr_general,'Monday', '07:00', '11:00')\n",
        "print(spr_mon_morn)\n"
      ]
    },
    {
      "cell_type": "code",
      "source": [
        "genre\n",
        "pop            781\n",
        "dance          549\n",
        "electronic     480\n",
        "rock           474\n",
        "hiphop         286\n",
        "ruspop         186\n",
        "world          181\n",
        "rusrap         175\n",
        "alternative    164\n",
        "unknown        161\n",
        "classical      157\n",
        "metal          120\n",
        "jazz           100\n",
        "folk            97\n",
        "soundtrack      95\n",
        "Name: genre, dtype: int64"
      ],
      "metadata": {
        "id": "MfpZFXnk3vFm"
      },
      "execution_count": null,
      "outputs": []
    },
    {
      "cell_type": "code",
      "execution_count": null,
      "metadata": {
        "id": "kwUcHPdy_Zcu"
      },
      "outputs": [],
      "source": [
        "# llamando a la función para el lunes por la mañana en Shelbyville (utilizando shel_general en vez de la tabla df)\n",
        "\n",
        "shel_mon_morn = genre_weekday(shel_general,'Monday', '07:00', '11:00')\n",
        "print(shel_mon_morn)\n"
      ]
    },
    {
      "cell_type": "code",
      "source": [
        "genre\n",
        "pop            218\n",
        "dance          182\n",
        "rock           162\n",
        "electronic     147\n",
        "hiphop          80\n",
        "ruspop          64\n",
        "alternative     58\n",
        "rusrap          55\n",
        "jazz            44\n",
        "classical       40\n",
        "world           36\n",
        "rap             32\n",
        "soundtrack      31\n",
        "rnb             27\n",
        "metal           27\n",
        "Name: genre, dtype: int64"
      ],
      "metadata": {
        "id": "I2l4mAZK3xXI"
      },
      "execution_count": null,
      "outputs": []
    },
    {
      "cell_type": "code",
      "execution_count": null,
      "metadata": {
        "id": "EzXVRE1o_Zcu"
      },
      "outputs": [],
      "source": [
        "# llamando a la función para el viernes por la tarde en Springfield\n",
        "\n",
        "spr_fri_aft = genre_weekday(spr_general,'Friday', '17:00', '23:00')\n",
        "print(spr_fri_aft)\n"
      ]
    },
    {
      "cell_type": "code",
      "source": [
        "genre\n",
        "pop            713\n",
        "rock           517\n",
        "dance          495\n",
        "electronic     482\n",
        "hiphop         273\n",
        "world          208\n",
        "ruspop         170\n",
        "classical      163\n",
        "alternative    163\n",
        "rusrap         142\n",
        "jazz           111\n",
        "unknown        110\n",
        "soundtrack     105\n",
        "rnb             90\n",
        "metal           88\n",
        "Name: genre, dtype: int64"
      ],
      "metadata": {
        "id": "n0JY38vO30Iy"
      },
      "execution_count": null,
      "outputs": []
    },
    {
      "cell_type": "code",
      "execution_count": null,
      "metadata": {
        "id": "JZaEKu5v_Zcu"
      },
      "outputs": [],
      "source": [
        "# llamando a la función para el viernes por la tarde en Shelbyville\n",
        "\n",
        "shel_fri_aft = genre_weekday(shel_general,'Friday', '17:00', '23:00')\n",
        "print(shel_fri_aft)\n"
      ]
    },
    {
      "cell_type": "code",
      "source": [
        "genre\n",
        "pop            256\n",
        "rock           216\n",
        "electronic     216\n",
        "dance          210\n",
        "hiphop          97\n",
        "alternative     63\n",
        "jazz            61\n",
        "classical       60\n",
        "rusrap          59\n",
        "world           54\n",
        "unknown         47\n",
        "ruspop          47\n",
        "soundtrack      40\n",
        "metal           39\n",
        "rap             36\n",
        "Name: genre, dtype: int64"
      ],
      "metadata": {
        "id": "gm9ObML432yC"
      },
      "execution_count": null,
      "outputs": []
    },
    {
      "cell_type": "markdown",
      "metadata": {
        "id": "wrCe4MNX_Zcu"
      },
      "source": [
        "**Conclusión**\n",
        "\n",
        "Habiendo comparado los 15 géneros más populares del lunes por la mañana podemos concluir lo siguiente:\n",
        "\n",
        "1. Los usuarios de Springfield y Shelbyville escuchan música similar. Los cinco géneros más populares son los mismos, solo rock y electrónica han intercambiado posiciones.\n",
        "\n",
        "2. En Springfield el número de valores ausentes resultaron ser tan altos que el valor `'unknown'` llegó al décimo. Esto significa que los valores ausentes forman una parte considerable de los datos, lo que podría ser la base de la cuestión sobre la fiabilidad de nuestras conclusiones.\n",
        "\n",
        "Para el viernes por la tarde, la situación es similar. Los géneros individuales varían algo pero, en general, los 15 más populares son parecidos en las dos ciudades.\n",
        "\n",
        "De esta forma, la segunda hipótesis ha sido parcialmente demostrada:\n",
        "* Los usuarios escuchan música similar al principio y al final de la semana.\n",
        "* No hay una gran diferencia entre Springfield y Shelbyville. En ambas ciudades, el pop es el género más popular.\n",
        "\n",
        "Sin embargo, el número de valores ausentes hace este resultado un tanto cuestionable. En Springfield, hay tantos que afectan a nuestros 15 más populares. De no faltarnos esos valores, las cosas podrían parecer diferentes."
      ]
    },
    {
      "cell_type": "markdown",
      "metadata": {
        "id": "JolODAqr_Zcu"
      },
      "source": [
        "### Hipótesis 3: preferencias de género en Springfield y Shelbyville <a id='genre'></a>\n",
        "\n",
        "Hipótesis: Shelbyville ama la música rap. A los ciudadanos de Springfield les gusta más el pop."
      ]
    },
    {
      "cell_type": "code",
      "execution_count": null,
      "metadata": {
        "id": "r19lIPke_Zcu"
      },
      "outputs": [],
      "source": [
        "# en una línea: agrupa la tabla spr_general por la columna 'genre',\n",
        "\n",
        "spr_general_genre = spr_general.groupby('genre')['genre']\n",
        "\n",
        "# cuenta los valores 'genre' con count() en la agrupación,\n",
        "\n",
        "spr_general_count = spr_general_genre.count()\n",
        "\n",
        "# ordena el Series resultante en orden descendiente, y almacénalo en spr_genres\n",
        "\n",
        "spr_genres = spr_general_count.sort_values(ascending=False)"
      ]
    },
    {
      "cell_type": "code",
      "execution_count": null,
      "metadata": {
        "id": "WhCSooF8_Zcv",
        "outputId": "3c37eeb0-95c8-4139-ee6e-459eca06a079"
      },
      "outputs": [
        {
          "name": "stdout",
          "output_type": "stream",
          "text": [
            "genre\n",
            "pop            5892\n",
            "dance          4435\n",
            "rock           3965\n",
            "electronic     3786\n",
            "hiphop         2096\n",
            "classical      1616\n",
            "world          1432\n",
            "alternative    1379\n",
            "ruspop         1372\n",
            "rusrap         1161\n",
            "Name: genre, dtype: int64\n"
          ]
        }
      ],
      "source": [
        "# imprimiendo las 10 primeras filas de spr_genres\n",
        "\n",
        "print (spr_genres.head(10))"
      ]
    },
    {
      "cell_type": "code",
      "execution_count": null,
      "metadata": {
        "id": "gluLIpE7_Zcv"
      },
      "outputs": [],
      "source": [
        "# en una línea: agrupa la tabla shel_general por la columna 'genre',\n",
        "\n",
        "shel_general_genre = shel_general.groupby('genre')['genre']\n",
        "\n",
        "# cuenta los valores 'genre' en el agrupamiento con count(),\n",
        "\n",
        "shel_general_count = shel_general_genre.count()\n",
        "\n",
        "# ordena el Series resultante en orden descendente y guárdalo en shel_genres\n",
        "\n",
        "shel_genres = shel_general_count.sort_values(ascending=False)"
      ]
    },
    {
      "cell_type": "code",
      "execution_count": null,
      "metadata": {
        "id": "uaGJHjVU_Zcv",
        "outputId": "8ebc0eda-9b48-4bab-f1d2-048ac6b95bb6"
      },
      "outputs": [
        {
          "name": "stdout",
          "output_type": "stream",
          "text": [
            "genre\n",
            "pop            2431\n",
            "dance          1932\n",
            "rock           1879\n",
            "electronic     1736\n",
            "hiphop          960\n",
            "alternative     649\n",
            "classical       646\n",
            "rusrap          564\n",
            "ruspop          538\n",
            "world           515\n",
            "Name: genre, dtype: int64\n"
          ]
        }
      ],
      "source": [
        "# imprimiendo las 10 primeras filas de shel_genres\n",
        "\n",
        "print (shel_genres.head(10))"
      ]
    },
    {
      "cell_type": "markdown",
      "metadata": {
        "id": "RY51YJYu_Zcv"
      },
      "source": [
        "**Conclusión**"
      ]
    },
    {
      "cell_type": "markdown",
      "metadata": {
        "id": "nVhnJEm__Zcv"
      },
      "source": [
        "La hipótesis ha sido parcialmente demostrada:\n",
        "* La música pop es el género más popular en Springfield, tal como se esperaba.\n",
        "* Sin embargo, la música pop ha resultado ser igual de popular en Springfield que en Shelbyville y el rap no estaba entre los 5 más populares en ninguna de las ciudades.\n"
      ]
    },
    {
      "cell_type": "markdown",
      "metadata": {
        "id": "ykKQ0N65_Zcv"
      },
      "source": [
        "# Conclusiones <a id='end'></a>"
      ]
    },
    {
      "cell_type": "markdown",
      "metadata": {
        "id": "tjUwbHb3_Zcv"
      },
      "source": [
        "Hemos probado las siguientes tres hipótesis:\n",
        "\n",
        "1. La actividad de los usuarios difiere dependiendo del día de la semana y de las distintas ciudades.\n",
        "2. Los lunes por la mañana los residentes de Springfield y Shelbyville escuchan géneros distintos. Lo mismo ocurre con los viernes por la noche.\n",
        "3. Los oyentes de Springfield y Shelbyville tienen distintas preferencias. En ambas ciudades, Springfield y Shelbyville, se prefiere el pop.\n",
        "\n",
        "Tras analizar los datos, concluimos:\n",
        "\n",
        "1. La actividad del usuario en Springfield y Shelbyville depende del día de la semana aunque las ciudades varían de diferentes formas.\n",
        "\n",
        "La primera hipótesis ha sido aceptada completamente.\n",
        "\n",
        "2. Las preferencias musicales no varían significativamente en el transcurso de la semana en Springfield y Shelbyville. Podemos observar pequeñas diferencias en el orden los lunes, pero:\n",
        "* En Springfield y Shelbyville la gente lo que más escucha es la música pop.\n",
        "\n",
        "Así que no podemos aceptar esta hipótesis. También debemos tener en cuenta que el resultado podría haber sido diferente si no fuera por los valores ausentes.\n",
        "\n",
        "3. Resulta que las preferencias musicales de los usuarios de Springfield y Shelbyville son bastante parecidas.\n",
        "\n",
        "La tercera hipótesis es rechazada. Si hay alguna diferencia en las preferencias no se puede observar en los datos.\n",
        "\n",
        "### Nota\n",
        "En los proyectos reales, la investigación supone el estudio de hipótesis estadísticas que es más preciso y cuantitativo. También ten en cuenta que no siempre podemos sacar conclusiones sobre una ciudad entera basándonos en datos de una sola fuente.\n",
        "\n",
        "Analizarás el estudio de hipótesis en el sprint de análisis estadístico de datos."
      ]
    }
  ],
  "metadata": {
    "colab": {
      "provenance": []
    },
    "kernelspec": {
      "display_name": "Python 3 (ipykernel)",
      "language": "python",
      "name": "python3"
    },
    "language_info": {
      "codemirror_mode": {
        "name": "ipython",
        "version": 3
      },
      "file_extension": ".py",
      "mimetype": "text/x-python",
      "name": "python",
      "nbconvert_exporter": "python",
      "pygments_lexer": "ipython3",
      "version": "3.9.5"
    },
    "toc": {
      "base_numbering": 1,
      "nav_menu": {},
      "number_sections": true,
      "sideBar": true,
      "skip_h1_title": true,
      "title_cell": "Table of Contents",
      "title_sidebar": "Contents",
      "toc_cell": false,
      "toc_position": {},
      "toc_section_display": true,
      "toc_window_display": false
    }
  },
  "nbformat": 4,
  "nbformat_minor": 0
}